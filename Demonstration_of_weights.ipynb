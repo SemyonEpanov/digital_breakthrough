{
 "cells": [
  {
   "cell_type": "markdown",
   "metadata": {},
   "source": []
  },
  {
   "cell_type": "code",
   "execution_count": 1,
   "metadata": {},
   "outputs": [],
   "source": [
    "import pandas as pd\n",
    "from tqdm import tqdm\n",
    "from catboost import CatBoostClassifier"
   ]
  },
  {
   "cell_type": "code",
   "execution_count": 2,
   "metadata": {},
   "outputs": [],
   "source": [
    "import pandas as pd\n",
    "\n",
    "df_vol = pd.read_excel('data\\preprocess\\df_vol.xlsx')\n",
    "df_price = pd.read_excel('data\\preprocess\\df_price.xlsx')\n",
    "df_req = pd.read_excel('data\\preprocess\\df_req.xlsx')\n",
    "df_interest = pd.read_excel('data\\preprocess\\df_interest.xlsx')\n",
    "df_mc = pd.read_excel('data\\preprocess\\df_mc.xlsx')\n"
   ]
  },
  {
   "cell_type": "code",
   "execution_count": 3,
   "metadata": {},
   "outputs": [],
   "source": [
    "agg_funcs = {\n",
    "    'Субъект федерации отп': lambda x: x.mode()[0],  # Мода\n",
    "    'Субъект федерации наз': lambda x: x.mode()[0],  # Мода\n",
    "    'Код груза': lambda x: x.mode()[0],  # Мода\n",
    "    'Гр груза по опер.номен': lambda x: x.mode()[0]  # Мода\n",
    "}\n",
    "\n",
    "# Добавляем сумму для всех остальных столбцов\n",
    "for col in df_price.columns[5:]:  # Пропускаем первые 5 столбцов\n",
    "    agg_funcs[col] = 'sum'\n",
    "\n",
    "# Создаем новый DataFrame с агрегированными данными\n",
    "df_targets = df_price.groupby('ID').agg(agg_funcs).reset_index()"
   ]
  },
  {
   "cell_type": "code",
   "execution_count": 4,
   "metadata": {},
   "outputs": [],
   "source": [
    "date_cols = ['2022/01', '2022/02', '2022/03', '2022/04',\n",
    "       '2022/05', '2022/06', '2022/07', '2022/08', '2022/09', '2022/10',\n",
    "       '2022/11', '2022/12', '2023/01', '2023/02', '2023/03', '2023/04',\n",
    "       '2023/05', '2023/06', '2023/07', '2023/08', '2023/09', '2023/10',\n",
    "       '2023/11', '2023/12', '2024/01', '2024/02', '2024/03', '2024/04',\n",
    "       '2024/05', '2024/06', '2024/07', '2024/08']\n",
    "last_6_cols = ['2024/03', '2024/04',\n",
    "       '2024/05', '2024/06', '2024/07', '2024/08']\n",
    "last_12_cols = ['2023/09', '2023/10',\n",
    "       '2023/11', '2023/12', '2024/01', '2024/02', '2024/03', '2024/04',\n",
    "       '2024/05', '2024/06', '2024/07', '2024/08']\n",
    "last_18_cols = ['2023/03', '2023/04',\n",
    "       '2023/05', '2023/06', '2023/07', '2023/08', '2023/09', '2023/10',\n",
    "       '2023/11', '2023/12', '2024/01', '2024/02', '2024/03', '2024/04',\n",
    "       '2024/05', '2024/06', '2024/07', '2024/08']\n",
    "\n",
    "cols_train2 = [ '2023/03', '2023/04',\n",
    "       '2023/05', '2023/06', '2023/07', '2023/08']\n",
    "\n",
    "cols_for_train1 = ['2023/03', '2023/04','2023/05', '2023/06', '2023/07', '2023/08', '2023/09', '2023/10', '2023/11', '2023/12', '2024/01', '2024/02']\n",
    "cols_for_train2 = ['2022/03', '2022/04',\n",
    "       '2022/05', '2022/06', '2022/07', '2022/08', '2022/09', '2022/10',\n",
    "       '2022/11', '2022/12', '2023/01', '2023/02']\n",
    "\n",
    "cols_for_now = ['2023/09', '2023/10',\n",
    "       '2023/11', '2023/12', '2024/01', '2024/02', '2024/03', '2024/04',\n",
    "       '2024/05', '2024/06', '2024/07', '2024/08']"
   ]
  },
  {
   "cell_type": "code",
   "execution_count": 5,
   "metadata": {},
   "outputs": [],
   "source": [
    "df_targets['target1'] = (df_targets[last_6_cols].sum(axis=1) == 0).astype(int)\n",
    "df_targets['target2'] = (df_targets[cols_train2].sum(axis=1) == 0).astype(int)\n",
    "\n",
    "df_train1 = df_targets[['ID', 'target1']]\n",
    "df_train2 = df_targets[['ID', 'target2']]"
   ]
  },
  {
   "cell_type": "code",
   "execution_count": 6,
   "metadata": {},
   "outputs": [],
   "source": [
    "mask = (df_targets[last_6_cols] != 0).any(axis=1)\n",
    "\n",
    "# Filter df3 based on the mask\n",
    "df3 = df_targets[mask].copy()[['ID']]"
   ]
  },
  {
   "cell_type": "code",
   "execution_count": 7,
   "metadata": {},
   "outputs": [
    {
     "name": "stderr",
     "output_type": "stream",
     "text": [
      "0it [00:00, ?it/s]"
     ]
    },
    {
     "name": "stderr",
     "output_type": "stream",
     "text": [
      "610it [00:11, 54.56it/s]\n"
     ]
    }
   ],
   "source": [
    "for index, row in tqdm(df3.iterrows()):\n",
    "    id = row['ID']\n",
    "    price_info = df_price[df_price.ID == id]\n",
    "    vol_info = df_vol[df_vol.ID == id]\n",
    "\n",
    "    # Регион 1\n",
    "    reg1_mode = price_info['Субъект федерации отп'].mode()\n",
    "    reg1_count = len(price_info['Субъект федерации отп'].unique())\n",
    "\n",
    "    # Регион 2\n",
    "    reg2_mode = price_info['Субъект федерации наз'].mode()\n",
    "    reg2_count = len(price_info['Субъект федерации наз'].unique())\n",
    "\n",
    "    # Код груза\n",
    "    code_mode = price_info['Код груза'].mode()\n",
    "    code_count = len(price_info['Код груза'].unique())\n",
    "\n",
    "    # Название груза\n",
    "    name_mode = price_info['Гр груза по опер.номен'].mode()\n",
    "    name_count = len(price_info['Гр груза по опер.номен'].unique())\n",
    "\n",
    "    # Заполнение df3\n",
    "    df3.loc[index, 'reg1_mode'] = reg1_mode[0] if not reg1_mode.empty else None\n",
    "    df3.loc[index, 'reg1_count'] = reg1_count\n",
    "    df3.loc[index, 'reg2_mode'] = reg2_mode[0] if not reg2_mode.empty else None\n",
    "    df3.loc[index, 'reg2_count'] = reg2_count\n",
    "    df3.loc[index, 'code_mode'] = code_mode[0] if not code_mode.empty else None\n",
    "    df3.loc[index, 'code_count'] = code_count\n",
    "    df3.loc[index, 'name_mode'] = name_mode[0] if not name_mode.empty else None\n",
    "    df3.loc[index, 'name_count'] = name_count\n",
    "\n",
    "    # Обработка цен и объемов\n",
    "    for col in cols_for_now:\n",
    "        df3.loc[index, f'{col}_sum_price'] = price_info[col].sum()\n",
    "        df3.loc[index, f'{col}_count_price'] = price_info[col].notnull().sum()\n",
    "\n",
    "    for col in cols_for_now:\n",
    "        df3.loc[index, f'{col}_sum_vol'] = vol_info[col].sum()\n",
    "        df3.loc[index, f'{col}_count_vol'] = vol_info[col].notnull().sum()\n",
    "\n",
    "    # Обработка запросов\n",
    "    req = df_req[df_req['ID'] == id]\n",
    "    req_count = len(req)\n",
    "    df3.loc[index, 'req_count'] = req_count\n",
    "\n",
    "    req_mode = req['Тема вопроса'].mode()\n",
    "    req_count_uniq = len(req['Тема вопроса'].unique())\n",
    "    df3.loc[index, 'req_mode'] = req_mode[0] if not req_mode.empty else 'Нет'\n",
    "    df3.loc[index, 'req_count_uniq'] = req_count_uniq\n",
    "\n",
    "    req_group_mode = req['Группа вопросов'].mode()\n",
    "    req_group_count_uniq = len(req['Группа вопросов'].unique())\n",
    "    df3.loc[index, 'req_group_mode'] = req_group_mode[0] if not req_group_mode.empty else 'Нет'\n",
    "    df3.loc[index, 'req_group_count_uniq'] = req_group_count_uniq\n",
    "\n",
    "    # Обработка интересов (без ограничения по дате)\n",
    "    interest = df_interest[df_interest['ID'] == id]\n",
    "    interest_count = len(interest)\n",
    "    df3.loc[index, 'interest_count'] = interest_count\n",
    "    interest_count_uniq_scen = len(interest['Сценарий'].unique())\n",
    "    df3.loc[index, 'interest_count_uniq_scen'] = interest_count_uniq_scen\n",
    "\n",
    "    interest_count_uniq_ch = len(interest['Канал первичного интереса'].unique())\n",
    "    df3.loc[index, 'interest_count_uniq_ch'] = interest_count_uniq_ch\n",
    "\n",
    "    interest_mode_ch = interest['Канал первичного интереса'].mode()\n",
    "    df3.loc[index, 'interest_mode_ch'] = interest_mode_ch[0] if not interest_mode_ch.empty else 'Нет'\n",
    "\n",
    "    interest_mode_scen = interest['Сценарий'].mode()\n",
    "    df3.loc[index, 'interest_mode_scen'] = interest_mode_scen[0] if not interest_mode_scen.empty else 'Нет'\n",
    "\n",
    "    interest_mode_state = interest['Состояние'].mode()\n",
    "    df3.loc[index, 'interest_mode_state'] = interest_mode_state[0] if not interest_mode_state.empty else 'Нет'\n",
    "\n",
    "    interest_count_bad = len(interest[interest['Состояние'] == 'Завершен неудачно'])\n",
    "    df3.loc[index, 'interest_count_bad'] = interest_count_bad\n",
    "\n",
    "    interest_count_good = len(interest[interest['Состояние'] == 'Завершен успешно'])\n",
    "    df3.loc[index, 'interest_count_good'] = interest_count_good\n",
    "\n",
    "    # Обработка МСП\n",
    "    mc = df_mc[df_mc['ID'] == id]\n",
    "    mc_count = len(mc)\n",
    "    df3.loc[index, 'mc_count'] = mc_count\n",
    "\n",
    "    mc_msp_mode = mc['Находится в реестре МСП'].mode()\n",
    "    df3.loc[index, 'mc_msp_mode'] = mc_msp_mode[0] if not mc_msp_mode.empty else 'unknown'\n",
    "\n",
    "    mc_size_mode = mc['Размер компании.Наименование'].mode()\n",
    "    df3.loc[index, 'mc_size_mode'] = mc_size_mode[0] if not mc_size_mode.empty else 'unknown'\n",
    "\n",
    "    mc_okved_mode = mc['ОКВЭД2.Код'].mode()\n",
    "    df3.loc[index, 'mc_okved_mode'] = mc_okved_mode[0] if not mc_okved_mode.empty and not mc_okved_mode.isnull().any() else 'unknown'\n",
    "\n",
    "    # Регион\n",
    "    mc_region_mode = mc['Регион'].mode()\n",
    "    df3.loc[index, 'mc_region_mode'] = mc_region_mode[0] if not mc_region_mode.empty else 'unknown'\n",
    "\n",
    "    # Грузоотправитель\n",
    "    mc_sender_mode = mc['Грузоотправитель'].mode()\n",
    "    df3.loc[index, 'mc_sender_mode'] = mc_sender_mode[0] if not mc_sender_mode.empty else 'unknown'\n",
    "\n",
    "    # Грузополучатель\n",
    "    mc_receiver_mode = mc['Грузополучатель'].mode()\n",
    "    df3.loc[index, 'mc_receiver_mode'] = mc_receiver_mode[0] if not mc_receiver_mode.empty else 'unknown'"
   ]
  },
  {
   "cell_type": "code",
   "execution_count": 8,
   "metadata": {},
   "outputs": [],
   "source": [
    "cat_features = [\n",
    "    'reg1_mode',\n",
    "    'reg2_mode',\n",
    "    'code_mode',\n",
    "    'name_mode',\n",
    "    'req_mode',\n",
    "    'req_group_mode',\n",
    "    'interest_mode_ch',\n",
    "    'interest_mode_scen',\n",
    "    'interest_mode_state',\n",
    "    'mc_msp_mode',\n",
    "    'mc_size_mode',\n",
    "    'mc_okved_mode',\n",
    "    'mc_region_mode',\n",
    "    'mc_sender_mode',\n",
    "    'mc_receiver_mode',\n",
    "]\n"
   ]
  },
  {
   "cell_type": "code",
   "execution_count": 10,
   "metadata": {},
   "outputs": [
    {
     "data": {
      "text/plain": [
       "<catboost.core.CatBoostClassifier at 0x1aad9afe850>"
      ]
     },
     "execution_count": 10,
     "metadata": {},
     "output_type": "execute_result"
    }
   ],
   "source": [
    "model = CatBoostClassifier()\n",
    "model.load_model('model_catboost.cbm')"
   ]
  },
  {
   "cell_type": "code",
   "execution_count": 11,
   "metadata": {},
   "outputs": [],
   "source": [
    "# Напишем функцию для инференса модели:\n",
    "def model_inference(input_data):\n",
    "    \"\"\"Функция для инференса модели на новых данных.\"\"\"\n",
    "    input_data[list(set(input_data.columns) - set(cat_features))] = input_data[list(set(input_data.columns) - set(cat_features))].astype(float)\n",
    "    input_data[cat_features] = input_data[cat_features].astype(str)\n",
    "    predictions = model.predict_proba(input_data.drop(columns='ID'))[:, 1]\n",
    "    return predictions"
   ]
  },
  {
   "cell_type": "code",
   "execution_count": null,
   "metadata": {},
   "outputs": [],
   "source": [
    "df3[list(set(df3.columns) - set(cat_features))] = df3[list(set(df3.columns) - set(cat_features))].astype(float)\n",
    "df3[cat_features] = df3[cat_features].astype(str)\n",
    "pred_real = pd.DataFrame()\n",
    "pred_real['ID'] = df3['ID']\n",
    "pred_real['Регион'] = df3['reg1_mode']\n",
    "pred_real['Вероятность'] = model.predict_proba(df3.drop(columns = 'ID'))[:, 1]\n",
    "pred_real['ID'] = pred_real['ID'].astype(int).astype(str)\n",
    "\n",
    "pred_real"
   ]
  }
 ],
 "metadata": {
  "kernelspec": {
   "display_name": "enviroment",
   "language": "python",
   "name": "python3"
  },
  "language_info": {
   "codemirror_mode": {
    "name": "ipython",
    "version": 3
   },
   "file_extension": ".py",
   "mimetype": "text/x-python",
   "name": "python",
   "nbconvert_exporter": "python",
   "pygments_lexer": "ipython3",
   "version": "3.11.9"
  }
 },
 "nbformat": 4,
 "nbformat_minor": 2
}
