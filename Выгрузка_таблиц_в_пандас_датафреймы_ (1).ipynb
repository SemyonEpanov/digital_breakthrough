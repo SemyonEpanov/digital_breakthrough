{
  "nbformat": 4,
  "nbformat_minor": 0,
  "metadata": {
    "colab": {
      "provenance": []
    },
    "kernelspec": {
      "name": "python3",
      "display_name": "Python 3"
    },
    "language_info": {
      "name": "python"
    }
  },
  "cells": [
    {
      "cell_type": "code",
      "execution_count": 1,
      "metadata": {
        "colab": {
          "base_uri": "https://localhost:8080/"
        },
        "id": "pnamzAJStRHP",
        "outputId": "098660b4-ec17-45d9-cdb2-a7c56e055cb1"
      },
      "outputs": [
        {
          "output_type": "stream",
          "name": "stdout",
          "text": [
            "Collecting patool\n",
            "  Downloading patool-3.0.2-py2.py3-none-any.whl.metadata (4.3 kB)\n",
            "Downloading patool-3.0.2-py2.py3-none-any.whl (98 kB)\n",
            "\u001b[2K   \u001b[90m━━━━━━━━━━━━━━━━━━━━━━━━━━━━━━━━━━━━━━━━\u001b[0m \u001b[32m98.1/98.1 kB\u001b[0m \u001b[31m2.3 MB/s\u001b[0m eta \u001b[36m0:00:00\u001b[0m\n",
            "\u001b[?25hInstalling collected packages: patool\n",
            "Successfully installed patool-3.0.2\n",
            "Collecting catboost\n",
            "  Downloading catboost-1.2.7-cp310-cp310-manylinux2014_x86_64.whl.metadata (1.2 kB)\n",
            "Requirement already satisfied: graphviz in /usr/local/lib/python3.10/dist-packages (from catboost) (0.20.3)\n",
            "Requirement already satisfied: matplotlib in /usr/local/lib/python3.10/dist-packages (from catboost) (3.7.1)\n",
            "Requirement already satisfied: numpy<2.0,>=1.16.0 in /usr/local/lib/python3.10/dist-packages (from catboost) (1.26.4)\n",
            "Requirement already satisfied: pandas>=0.24 in /usr/local/lib/python3.10/dist-packages (from catboost) (2.2.2)\n",
            "Requirement already satisfied: scipy in /usr/local/lib/python3.10/dist-packages (from catboost) (1.13.1)\n",
            "Requirement already satisfied: plotly in /usr/local/lib/python3.10/dist-packages (from catboost) (5.24.1)\n",
            "Requirement already satisfied: six in /usr/local/lib/python3.10/dist-packages (from catboost) (1.16.0)\n",
            "Requirement already satisfied: python-dateutil>=2.8.2 in /usr/local/lib/python3.10/dist-packages (from pandas>=0.24->catboost) (2.8.2)\n",
            "Requirement already satisfied: pytz>=2020.1 in /usr/local/lib/python3.10/dist-packages (from pandas>=0.24->catboost) (2024.2)\n",
            "Requirement already satisfied: tzdata>=2022.7 in /usr/local/lib/python3.10/dist-packages (from pandas>=0.24->catboost) (2024.2)\n",
            "Requirement already satisfied: contourpy>=1.0.1 in /usr/local/lib/python3.10/dist-packages (from matplotlib->catboost) (1.3.0)\n",
            "Requirement already satisfied: cycler>=0.10 in /usr/local/lib/python3.10/dist-packages (from matplotlib->catboost) (0.12.1)\n",
            "Requirement already satisfied: fonttools>=4.22.0 in /usr/local/lib/python3.10/dist-packages (from matplotlib->catboost) (4.54.1)\n",
            "Requirement already satisfied: kiwisolver>=1.0.1 in /usr/local/lib/python3.10/dist-packages (from matplotlib->catboost) (1.4.7)\n",
            "Requirement already satisfied: packaging>=20.0 in /usr/local/lib/python3.10/dist-packages (from matplotlib->catboost) (24.1)\n",
            "Requirement already satisfied: pillow>=6.2.0 in /usr/local/lib/python3.10/dist-packages (from matplotlib->catboost) (10.4.0)\n",
            "Requirement already satisfied: pyparsing>=2.3.1 in /usr/local/lib/python3.10/dist-packages (from matplotlib->catboost) (3.2.0)\n",
            "Requirement already satisfied: tenacity>=6.2.0 in /usr/local/lib/python3.10/dist-packages (from plotly->catboost) (9.0.0)\n",
            "Downloading catboost-1.2.7-cp310-cp310-manylinux2014_x86_64.whl (98.7 MB)\n",
            "\u001b[2K   \u001b[90m━━━━━━━━━━━━━━━━━━━━━━━━━━━━━━━━━━━━━━━━\u001b[0m \u001b[32m98.7/98.7 MB\u001b[0m \u001b[31m9.6 MB/s\u001b[0m eta \u001b[36m0:00:00\u001b[0m\n",
            "\u001b[?25hInstalling collected packages: catboost\n",
            "Successfully installed catboost-1.2.7\n"
          ]
        },
        {
          "output_type": "stream",
          "name": "stderr",
          "text": [
            "INFO patool: Extracting /content/drive/MyDrive/digital/train_dataset_rzhd_model_train.rar ...\n",
            "INFO:patool:Extracting /content/drive/MyDrive/digital/train_dataset_rzhd_model_train.rar ...\n"
          ]
        },
        {
          "output_type": "stream",
          "name": "stdout",
          "text": [
            "Mounted at /content/drive\n"
          ]
        },
        {
          "output_type": "stream",
          "name": "stderr",
          "text": [
            "INFO patool: running /usr/bin/unrar x -- /content/drive/MyDrive/digital/train_dataset_rzhd_model_train.rar\n",
            "INFO:patool:running /usr/bin/unrar x -- /content/drive/MyDrive/digital/train_dataset_rzhd_model_train.rar\n",
            "INFO patool:     with cwd='/content', input=''\n",
            "INFO:patool:    with cwd='/content', input=''\n",
            "INFO patool: ... /content/drive/MyDrive/digital/train_dataset_rzhd_model_train.rar extracted to `/content'.\n",
            "INFO:patool:... /content/drive/MyDrive/digital/train_dataset_rzhd_model_train.rar extracted to `/content'.\n",
            "<ipython-input-1-3c1093c6d82f>:67: SettingWithCopyWarning: \n",
            "A value is trying to be set on a copy of a slice from a DataFrame\n",
            "\n",
            "See the caveats in the documentation: https://pandas.pydata.org/pandas-docs/stable/user_guide/indexing.html#returning-a-view-versus-a-copy\n",
            "  df_vol.rename(columns={'Unnamed: 0': 'ID',\n",
            "<ipython-input-1-3c1093c6d82f>:72: SettingWithCopyWarning: \n",
            "A value is trying to be set on a copy of a slice from a DataFrame\n",
            "\n",
            "See the caveats in the documentation: https://pandas.pydata.org/pandas-docs/stable/user_guide/indexing.html#returning-a-view-versus-a-copy\n",
            "  df_price.rename(columns={'Unnamed: 0': 'ID',\n"
          ]
        }
      ],
      "source": [
        "!pip install patool\n",
        "\n",
        "import patoolib\n",
        "import pandas as pd\n",
        "import glob\n",
        "import zipfile\n",
        "import os\n",
        "from tqdm import tqdm\n",
        "\n",
        "\n",
        "rar_path = 'data/source/train_dataset_rzhd_model_train.rar'  # путь к твоему .rar файлу\n",
        "\n",
        "output_folder = '/unzipped_folder'\n",
        "os.makedirs(output_folder, exist_ok=True)\n",
        "patoolib.extract_archive(rar_path, outdir='')\n",
        "\n",
        "\n",
        "output_folder = 'unzipped_folder'\n",
        "\n",
        "# Путь к папке с файлами\n",
        "file_path = 'РЖД train/Выгрузка_маркетинговые списки/*.xls'\n",
        "\n",
        "# Список всех файлов\n",
        "all_files = glob.glob(file_path)\n",
        "\n",
        "# Создание списка DataFrame для каждого файла\n",
        "df_list = []\n",
        "\n",
        "for file in all_files:\n",
        "    # Чтение файла\n",
        "    df = pd.read_excel(file)\n",
        "\n",
        "    # Извлечение области из имени файла\n",
        "    region = file.split('_')[-1].split('.')[0]  # Например, \"Владимирская область\"\n",
        "\n",
        "    # Добавление столбца с регионом\n",
        "    df['Регион'] = region\n",
        "\n",
        "    # Добавление в список\n",
        "    df_list.append(df)\n",
        "\n",
        "# Объединение всех DataFrame в один\n",
        "df_mc = pd.concat(df_list, ignore_index=True)\n",
        "\n",
        "df_raw = pd.read_excel('РЖД train/Выгрузки_интересы+обращения+объёмы перевозок/Объёмы перевозок.xls', skiprows=1)\n",
        "\n",
        "list_vol = list()\n",
        "list_price = list()\n",
        "unnamed_list = ['Unnamed: 0',\t'Unnamed: 1',\t'Unnamed: 2', \t'Unnamed: 3', 'Месяц']\n",
        "for col in df_raw.columns:\n",
        "  if col not in unnamed_list:\n",
        "    if '.1' in col:\n",
        "      list_vol.append(col)\n",
        "    else:\n",
        "      list_price.append(col)\n",
        "\n",
        "df_vol = df_raw[unnamed_list + list_vol]\n",
        "df_price = df_raw[unnamed_list + list_price]\n",
        "\n",
        "df_vol.rename(columns={'Unnamed: 0': 'ID',\n",
        "                       'Unnamed: 1': 'Субъект федерации отп',\n",
        "                       'Unnamed: 2': 'Субъект федерации наз',\n",
        "                       'Unnamed: 3': 'Код груза',\n",
        "                       'Месяц': 'Гр груза по опер.номен'}, inplace=True)\n",
        "df_price.rename(columns={'Unnamed: 0': 'ID',\n",
        "                       'Unnamed: 1': 'Субъект федерации отп',\n",
        "                       'Unnamed: 2': 'Субъект федерации наз',\n",
        "                       'Unnamed: 3': 'Код груза',\n",
        "                       'Месяц': 'Гр груза по опер.номен' }, inplace=True)\n",
        "\n",
        "df_vol = df_vol.iloc[1:]\n",
        "df_price = df_price.iloc[1:]\n",
        "df_vol.columns = df_vol.columns.str.replace('.1$', '', regex=True)\n",
        "\n",
        "\n",
        "df_req = pd.read_excel('РЖД train/Выгрузки_интересы+обращения+объёмы перевозок/Обращения.xls')\n",
        "\n",
        "df_interest = pd.read_excel('РЖД train/Выгрузки_интересы+обращения+объёмы перевозок/Интересы.xls')\n",
        "\n",
        "date_columns = [col for col in df_price.columns if '/' in col]\n",
        "date_columns = pd.to_datetime(date_columns, format='%Y/%m')\n",
        "sorted_date_columns = sorted(date_columns)\n",
        "\n",
        "# Обновление DataFrame с новыми отсортированными столбцами\n",
        "sorted_columns = df_price.columns.tolist()\n",
        "sorted_columns = [col for col in sorted_columns if col not in date_columns]\n",
        "sorted_columns += [d.strftime('%Y/%m') for d in sorted_date_columns]\n",
        "\n",
        "# Обновляем DataFrame\n",
        "df_price = df_price.reindex(columns=sorted_columns)\n",
        "\n",
        "\n",
        "date_columns = [col for col in df_vol.columns if '/' in col]\n",
        "date_columns = pd.to_datetime(date_columns, format='%Y/%m')\n",
        "sorted_date_columns = sorted(date_columns)\n",
        "\n",
        "# Обновление DataFrame с новыми отсортированными столбцами\n",
        "sorted_columns = df_vol.columns.tolist()\n",
        "sorted_columns = [col for col in sorted_columns if col not in date_columns]\n",
        "sorted_columns += [d.strftime('%Y/%m') for d in sorted_date_columns]\n",
        "\n",
        "# Обновляем DataFrame\n",
        "df_vol = df_vol.reindex(columns=sorted_columns)"
      ]
    },
    {
      "cell_type": "code",
      "source": [
        "df_vol.to_csv('df_vol.csv')\n",
        "df_price.to_csv('df_price.csv')\n",
        "df_mc.to_csv('df_mc.csv')\n",
        "df_interest.to_csv('df_interest.csv')\n",
        "df_req.to_csv('df_rew.csv')"
      ],
      "metadata": {
        "id": "Ajc4iVmPtVbe"
      },
      "execution_count": 2,
      "outputs": []
    },
    {
      "cell_type": "code",
      "source": [
        "df_req.to_csv('df_req.csv')"
      ],
      "metadata": {
        "id": "N3V_JQRBuMoB"
      },
      "execution_count": 3,
      "outputs": []
    },
    {
      "cell_type": "code",
      "source": [],
      "metadata": {
        "id": "Vl0SB7PeuOxt"
      },
      "execution_count": null,
      "outputs": []
    }
  ]
}